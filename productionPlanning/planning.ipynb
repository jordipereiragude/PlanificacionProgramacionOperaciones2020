{
 "cells": [
  {
   "cell_type": "markdown",
   "metadata": {},
   "source": [
    "# Planificación de la producción\n",
    "\n",
    "Veamos algunas de las restricciones para resolver este tipo de problemas. \n",
    "\n",
    "Vamos a usar GLPK principalmente para intentar evitar \"la magia\" de los solvers comerciales."
   ]
  },
  {
   "cell_type": "markdown",
   "metadata": {},
   "source": [
    "## Declaración de librerías\n",
    "\n",
    "Debemos incluir la librería JuMP y los solvers a utilizar "
   ]
  },
  {
   "cell_type": "code",
   "execution_count": null,
   "metadata": {},
   "outputs": [],
   "source": [
    "using Random,JuMP,CPLEX,GLPK\n",
    "Random.seed!(100003);\n",
    "useCPLEX=1"
   ]
  },
  {
   "cell_type": "markdown",
   "metadata": {},
   "source": [
    "## Creación del archivo de datos\n",
    "\n",
    "En esta ocasión vamos a generar los datos aleatoriamente, práctica habitual para verificar que nuestros programas funcionan sin necesidad de complicarnos demasiado en proceso de generación de instancias."
   ]
  },
  {
   "cell_type": "code",
   "execution_count": null,
   "metadata": {},
   "outputs": [],
   "source": [
    "function generarInstancia(periodos,ratioFijoVariable,mu,sigma)\n",
    "    precioFijo=ratioFijoVariable\n",
    "    precioStock=1\n",
    "    d=mu.+randn(periodos).*sigma\n",
    "    demanda=convert.(Int,round.(d,digits=0))\n",
    "    #alternativamente:\n",
    "    #demanda=zeros(Int,periodos)\n",
    "    #for i in 1:periodos\n",
    "    #    valor=round(d[i],digits=0)\n",
    "    #    demanda[i]=convert(Int,d[i])\n",
    "    #end\n",
    "    return precioFijo,precioStock,demanda\n",
    "end"
   ]
  },
  {
   "cell_type": "code",
   "execution_count": null,
   "metadata": {},
   "outputs": [],
   "source": [
    "function ulsp(n,K,h,d,s0,useCPLEX) #número de periodos, coste por pedido, coste de inventario, demanda, stock inicial\n",
    "    if useCPLEX==1\n",
    "        model = Model(CPLEX.Optimizer)\n",
    "    else\n",
    "        model=Model(GLPK.Optimizer)\n",
    "        set_optimizer_attribute(model,\"msg_lev\",GLPK.GLP_MSG_ALL)\n",
    "    end\n",
    "    @variable(model,y[1:n],Bin) #si se compra\n",
    "    @variable(model,x[1:n]>=0) #unidades compradas\n",
    "    @variable(model,s[0:n]>=0) #unidades compradas\n",
    "    M=sum(d)\n",
    "    @objective(model, Min, K*sum(y[t] for t in 1:n)+h*sum(s[t] for t in 1:n)) #minimizo costes    \n",
    "    @constraint(model,s0==s[0]) #inventario inicial\n",
    "    @constraint(model,[t in 1:n],s[t]==s[t-1]+x[t]-d[t]) #inventario\n",
    "    @constraint(model,[t in 1:n],x[t]<=M*y[t]) #activación\n",
    "\n",
    "    #println(model)\n",
    "    optimize!(model)\n",
    "    println(\"Objective: \",objective_value(model))\n",
    "    for i in 1:n\n",
    "        println(\"y[$i] = \", JuMP.value(y[i])) #sólo imprima variables de uso de estación\n",
    "        println(\"s[$i] = \",JuMP.value(s[i]))\n",
    "    end\n",
    "end"
   ]
  },
  {
   "cell_type": "code",
   "execution_count": null,
   "metadata": {},
   "outputs": [],
   "source": [
    "function ulspAlt(n,K,h,d,s0,useCPLEX) #número de periodos, coste por pedido, coste de inventario, demanda, stock inicial\n",
    "    if useCPLEX==1\n",
    "        model = Model(CPLEX.Optimizer)\n",
    "    else\n",
    "        model=Model(GLPK.Optimizer)\n",
    "        set_optimizer_attribute(model,\"msg_lev\",GLPK.GLP_MSG_ALL)\n",
    "    end\n",
    "    #definimos las variables\n",
    "    @variable(model,y[1:n],Bin) #si se compra en el periodo i\n",
    "    @variable(model,0<=x[1:n,1:n]<=1) #$x_{i,j}$  porcentaje de la demanda del periodo j \n",
    "                                      # satisfecho por compras en el periodo i \n",
    "    #eliminamos el stock inicial del problema, modificando la demanda\n",
    "    for i in 1:n\n",
    "        if d[i]>=s0\n",
    "            d[i]-=s0\n",
    "            s0=0\n",
    "            break\n",
    "        else\n",
    "            s0-=d[i]\n",
    "            d[i]=0\n",
    "        end\n",
    "    end\n",
    "    println(d)\n",
    "    #creamos los costes de inventario asociados a cubrir parte de la demanda\n",
    "    c = [0 for i in 1:n, j in 1:n]\n",
    "    for i in 1:n\n",
    "        for j in i+1:n\n",
    "            c[i,j]=d[j]*(j-i)*h\n",
    "        end\n",
    "    end\n",
    "    println(c,\"\\n\\n\\n\")\n",
    "    @objective(model, Min, K*sum(y[i] for i in 1:n)+sum(c[i,j]*x[i,j] for i in 1:n, j in i+1:n)) #minimizo costes    \n",
    "    #alternativamente\n",
    "    #@objective(model,Min,K*sum(y[i] for i in 1:n)+sum( d[i]*h*(j-i)*x[i,j]  for i in 1:n, j in i+1:n))\n",
    "    \n",
    "    @constraint(model,[i in 1:n,j in i:n],x[i,j]<=y[i]) #asegurar condición de costes fijos\n",
    "    @constraint(model,[j in 1:n],sum(x[i,j] for i in 1:j)==1) #asegurar satisfacción de la demanda del periodo j\n",
    "    \n",
    "    #println(model)\n",
    "    optimize!(model)\n",
    "    println(\"Objective: \",objective_value(model))\n",
    "    for i in 1:n\n",
    "        if(JuMP.value(y[i])==1)\n",
    "            println(\"pido en el periodo $i\")\n",
    "            for j in i:n\n",
    "                if (JuMP.value(x[i,j])>0)\n",
    "                    println(\" para periodos $j cantidad \",JuMP.value(x[i,j]))\n",
    "                end\n",
    "            end\n",
    "        end\n",
    "    end\n",
    "end"
   ]
  },
  {
   "cell_type": "code",
   "execution_count": null,
   "metadata": {},
   "outputs": [],
   "source": [
    "function ulspAlt2(n,K,h,d,s0,useCPLEX) #número de periodos, coste por pedido, coste de inventario, demanda, stock inicial\n",
    "    if useCPLEX==1\n",
    "        model = Model(CPLEX.Optimizer)\n",
    "    else\n",
    "        model=Model(GLPK.Optimizer)\n",
    "        set_optimizer_attribute(model,\"msg_lev\",GLPK.GLP_MSG_ALL)\n",
    "    end\n",
    "    #definimos las variables\n",
    "    #@variable(model,0<=x[1:n,1:n+1]<=1) #si se compra en el periodo i para que nos quedemos sin en el periodo j\n",
    "    @variable(model,x[1:n,1:n+1],Bin) #si se compra en el periodo i para que nos quedemos sin en el periodo j\n",
    "    #eliminamos el stock inicial del problema, modificando la demanda\n",
    "    for i in 1:n\n",
    "        if d[i]>=s0\n",
    "            d[i]-=s0\n",
    "            s0=0\n",
    "            break\n",
    "        else\n",
    "            s0-d[i]\n",
    "            d[i]=0\n",
    "        end\n",
    "    end\n",
    "    #println(d)\n",
    "    #creamos los costes totales de cubrir la demanda de los periodos i,...,j-1\n",
    "    c = [K for i in 1:n, j in 1:n+1]\n",
    "    for i in 1:n\n",
    "        for j in i+1:n\n",
    "            for k in i+1:j\n",
    "                c[i,j+1] += d[k]*(k-i)*h\n",
    "            end\n",
    "        end\n",
    "    end\n",
    "    #println(c)\n",
    "    #alternativamente\n",
    "    @objective(model,Min,+sum( c[i,j]*x[i,j]  for i in 1:n, j in i+1:n+1))\n",
    "    \n",
    "    @constraint(model,1 == sum(x[1,d] for d in 2:n+1)) #conservación de flujo (salida)\n",
    "    @constraint(model,[i in 2:n],sum(x[o,i] for o in 1:i) == sum(x[i,d] for d in i+1:n+1)) #conservación de flujo\n",
    "    @constraint(model,sum(x[i,n+1] for i in 1:n)==1) #conservación de flujo (llegada)\n",
    "    \n",
    "    #println(model)\n",
    "    optimize!(model)\n",
    "    println(\"Objective: \",objective_value(model))\n",
    "    for i in 1:n\n",
    "        for j in i:n+1\n",
    "            if (JuMP.value(x[i,j])>0)\n",
    "                println(\" de $i a $j\")\n",
    "            end\n",
    "        end\n",
    "    end\n",
    "end"
   ]
  },
  {
   "cell_type": "code",
   "execution_count": null,
   "metadata": {},
   "outputs": [],
   "source": [
    "periodos=200\n",
    "ratioFijoVariable=250\n",
    "mu=100\n",
    "sigma=15\n",
    "sinicial=0\n",
    "precioFijo,precioStock,Demanda=generarInstancia(periodos,ratioFijoVariable,mu,sigma)"
   ]
  },
  {
   "cell_type": "code",
   "execution_count": null,
   "metadata": {},
   "outputs": [],
   "source": [
    "ulsp(periodos,precioFijo,precioStock,Demanda,sinicial,useCPLEX)"
   ]
  },
  {
   "cell_type": "code",
   "execution_count": null,
   "metadata": {},
   "outputs": [],
   "source": [
    "ulspAlt(periodos,precioFijo,precioStock,Demanda,sinicial,useCPLEX)"
   ]
  },
  {
   "cell_type": "code",
   "execution_count": null,
   "metadata": {},
   "outputs": [],
   "source": [
    "ulspAlt2(periodos,precioFijo,precioStock,Demanda,sinicial,useCPLEX)"
   ]
  },
  {
   "cell_type": "code",
   "execution_count": null,
   "metadata": {},
   "outputs": [],
   "source": []
  }
 ],
 "metadata": {
  "kernelspec": {
   "display_name": "Julia 1.5.1",
   "language": "julia",
   "name": "julia-1.5"
  },
  "language_info": {
   "file_extension": ".jl",
   "mimetype": "application/julia",
   "name": "julia",
   "version": "1.5.1"
  }
 },
 "nbformat": 4,
 "nbformat_minor": 4
}
